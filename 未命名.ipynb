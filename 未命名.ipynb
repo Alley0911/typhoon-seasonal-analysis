{
 "cells": [
  {
   "cell_type": "code",
   "execution_count": 1,
   "metadata": {},
   "outputs": [],
   "source": [
    "import sys\n",
    "sys.path.append(\"/home/alley/anaconda3/envs/ncl_to_python/lib/python3.8/site-packages\")\n",
    "sys.path.append(\"/home/alley/anaconda3/envs/ncl_to_python/lib/python3.8/site-packages/PyNIO\")"
   ]
  },
  {
   "cell_type": "code",
   "execution_count": 2,
   "metadata": {},
   "outputs": [],
   "source": [
    "import matplotlib.pyplot as plt\n",
    "import numpy as np\n",
    "import xarray as xr\n",
    "import Ngl,Nio\n",
    "import os\n",
    "import glob\n",
    "import netCDF4 as nc"
   ]
  },
  {
   "cell_type": "code",
   "execution_count": 3,
   "metadata": {},
   "outputs": [
    {
     "name": "stdout",
     "output_type": "stream",
     "text": [
      "CPU times: user 1e+03 ns, sys: 1 µs, total: 2 µs\n",
      "Wall time: 3.81 µs\n",
      "(721, 1440)\n"
     ]
    }
   ],
   "source": [
    "%time\n",
    "files_cli = sorted(glob.glob(os.path.join('/home/alley/work/Dong/mongo/seasonal_analysis/data/data/download_from_mongo/cli', '*.grb')))\n",
    "# f_cli = xr.concat([xr.load_dataarray(file, engine=\"cfgrib\") for file in files_cli], dim=\"time\")\n",
    "# f_cli = nc.MFDataset(files_cli)\n",
    "f_cli = xr.open_mfdataset(files_cli, concat_dim=\"time\", combine=\"nested\", engine=\"cfgrib\")\n",
    "# f_cli = xr.open_mfdataset(files_cli[0], engine=\"cfgrib\")\n",
    "h = f_cli[\"z\"]\n",
    "h = h.mean(dim=\"time\")\n",
    "h_cli = h/100\n",
    "print(h.shape)\n",
    "\n",
    "# print(h)"
   ]
  },
  {
   "cell_type": "code",
   "execution_count": 4,
   "metadata": {},
   "outputs": [],
   "source": [
    "file_cur = \"/home/alley/work/Dong/mongo/seasonal_analysis/data/data/download_from_mongo/cur/gh_500_201911.grb\"\n",
    "f_cur = xr.open_mfdataset(file_cur, engine=\"cfgrib\")\n",
    "h_cur = f_cur[\"z\"]/100\n",
    "h_ano = h_cur - h_cli"
   ]
  },
  {
   "cell_type": "code",
   "execution_count": 5,
   "metadata": {},
   "outputs": [
    {
     "name": "stdout",
     "output_type": "stream",
     "text": [
      "ok\n"
     ]
    }
   ],
   "source": [
    "lat = f_cli[\"latitude\"].values\n",
    "lon = f_cli[\"longitude\"].values\n",
    "leftString = \"500hPa Height & Anomaly\"\n",
    "rightString = \"dagpm\"\n",
    "\n",
    "wks_type = 'png'\n",
    "wks = Ngl.open_wks(wks_type, '/home/alley/work/Dong/mongo/seasonal_analysis/images/gh_500hPa_cli.png')\n",
    "\n",
    "res = Ngl.Resources()\n",
    "res.nglFrame = False\n",
    "res.cnFillOn = True\n",
    "res.mpLimitMode = \"LatLon\"\n",
    "res.mpMinLonF= 60\n",
    "res.mpMaxLonF = 180\n",
    "res.mpMinLatF = 0\n",
    "res.mpMaxLatF = 60\n",
    "res.sfXArray = lon\n",
    "res.sfYArray = lat\n",
    "res.cnLevelSelectionMode = \"ExplicitLevels\"\n",
    "res.cnFillPalette        = \"BlueDarkRed18\"\n",
    "# res.cnLineLabelsOn = True\n",
    "res.cnLevels = np.arange(-5, 6, 1)\n",
    "#res.cnMonoLineThickness = False\n",
    "#res.cnLineThicknesses = value\n",
    "res.cnLineThicknessF=5\n",
    "# res.cnInfoLabelOn=False\n",
    "res.cnLineColor=\"black\"\n",
    "plot = Ngl.contour_map(wks, h_ano, res)\n",
    "\n",
    "txres = Ngl.Resources()\n",
    "txres.txFontHeightF = 0.024\n",
    "\n",
    "Ngl.text_ndc(wks, leftString, 0.3, 0.78, txres) \n",
    "Ngl.text_ndc(wks, rightString, 0.9, 0.78, txres) \n",
    "\n",
    "Ngl.frame(wks)\n",
    "Ngl.end()\n",
    "print(\"ok\")"
   ]
  },
  {
   "cell_type": "code",
   "execution_count": null,
   "metadata": {},
   "outputs": [],
   "source": []
  }
 ],
 "metadata": {
  "kernelspec": {
   "display_name": "Python 3",
   "language": "python",
   "name": "python3"
  },
  "language_info": {
   "codemirror_mode": {
    "name": "ipython",
    "version": 3
   },
   "file_extension": ".py",
   "mimetype": "text/x-python",
   "name": "python",
   "nbconvert_exporter": "python",
   "pygments_lexer": "ipython3",
   "version": "3.8.5"
  }
 },
 "nbformat": 4,
 "nbformat_minor": 4
}
